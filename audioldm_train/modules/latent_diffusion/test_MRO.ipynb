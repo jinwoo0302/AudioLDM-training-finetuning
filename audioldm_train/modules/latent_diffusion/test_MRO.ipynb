{
 "cells": [
  {
   "cell_type": "code",
   "execution_count": 1,
   "metadata": {},
   "outputs": [
    {
     "name": "stdout",
     "output_type": "stream",
     "text": [
      "A의 test에서 B의 method1 호출\n",
      "B의 method1 호출됨\n",
      "A의 shared_method 호출됨\n"
     ]
    }
   ],
   "source": [
    "class B:\n",
    "    def method1(self):\n",
    "        print(\"B의 method1 호출됨\")\n",
    "        self.shared_method()  # shared_method 호출\n",
    "        \n",
    "    def shared_method(self):\n",
    "        print(\"B의 shared_method 호출됨\")\n",
    "\n",
    "class A(B):\n",
    "    def shared_method(self):\n",
    "        print(\"A의 shared_method 호출됨\")\n",
    "        \n",
    "    def test(self):\n",
    "        print(\"A의 test에서 B의 method1 호출\")\n",
    "        self.method1()  # B의 method1 호출\n",
    "\n",
    "# 테스트\n",
    "if __name__ == \"__main__\":\n",
    "    a = A()\n",
    "    a.test()\n",
    "\n",
    "# 출력 결과:\n",
    "# A의 test에서 B의 method1 호출\n",
    "# B의 method1 호출됨\n",
    "# A의 shared_method 호출됨\n"
   ]
  }
 ],
 "metadata": {
  "kernelspec": {
   "display_name": "audioldm_train",
   "language": "python",
   "name": "python3"
  },
  "language_info": {
   "codemirror_mode": {
    "name": "ipython",
    "version": 3
   },
   "file_extension": ".py",
   "mimetype": "text/x-python",
   "name": "python",
   "nbconvert_exporter": "python",
   "pygments_lexer": "ipython3",
   "version": "3.10.16"
  }
 },
 "nbformat": 4,
 "nbformat_minor": 2
}
